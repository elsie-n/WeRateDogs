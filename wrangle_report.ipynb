{
 "cells": [
  {
   "cell_type": "markdown",
   "metadata": {},
   "source": [
    "## Reporting: wrangle_report\n"
   ]
  },
  {
   "cell_type": "markdown",
   "metadata": {},
   "source": [
    "# We-Rate-Dogs"
   ]
  },
  {
   "cell_type": "markdown",
   "metadata": {},
   "source": [
    "The dataset wrangled analyzed and visualized in this project is from a tweet archive of Twitter user @dog_rates(WeRateDogs).WeRateDogs is a Twitter account that rates people's dogs with a humorous comment about the dog. "
   ]
  },
  {
   "cell_type": "markdown",
   "metadata": {},
   "source": [
    "### Gathering Data for this project"
   ]
  },
  {
   "cell_type": "markdown",
   "metadata": {},
   "source": [
    "I have gathered each of the three pieces of data in the jupyter Notebook wrangle_act.ipynb;\n",
    "twitter_archive_enhanced.csv as twitter_archive\n",
    "image_predictsions.tsv as image_predictions \n",
    "read tweepy data as json_data"
   ]
  },
  {
   "cell_type": "markdown",
   "metadata": {},
   "source": [
    "### twitter_archive"
   ]
  },
  {
   "cell_type": "markdown",
   "metadata": {},
   "source": [
    "'\n",
    "The twitter archive contains data directly retrived from the twitter handle.\n",
    "<class 'pandas.core.frame.DataFrame'>\n",
    "RangeIndex: 2356 entries, 0 to 2355\n",
    "Data columns (total 17 columns):\n",
    "tweet_id                      2356 non-null int64\n",
    "in_reply_to_status_id         78 non-null float64\n",
    "in_reply_to_user_id           78 non-null float64\n",
    "timestamp                     2356 non-null object\n",
    "source                        2356 non-null object\n",
    "text                          2356 non-null object\n",
    "retweeted_status_id           181 non-null float64\n",
    "retweeted_status_user_id      181 non-null float64\n",
    "retweeted_status_timestamp    181 non-null object\n",
    "expanded_urls                 2297 non-null object\n",
    "rating_numerator              2356 non-null int64\n",
    "rating_denominator            2356 non-null int64\n",
    "name                          2356 non-null object\n",
    "doggo                         2356 non-null object\n",
    "floofer                       2356 non-null object\n",
    "pupper                        2356 non-null object\n",
    "puppo                         2356 non-null object\n",
    "dtypes: float64(4), int64(3), object(10)\n",
    "memory usage: 313.0+ KB\n",
    "    '"
   ]
  },
  {
   "cell_type": "markdown",
   "metadata": {},
   "source": [
    "### image_predictions"
   ]
  },
  {
   "cell_type": "markdown",
   "metadata": {},
   "source": [
    " '\n",
    "    <class 'pandas.core.frame.DataFrame'>\n",
    "RangeIndex: 2075 entries, 0 to 2074\n",
    "Data columns (total 12 columns):\n",
    "tweet_id    2075 non-null int64\n",
    "jpg_url     2075 non-null object\n",
    "img_num     2075 non-null int64\n",
    "p1          2075 non-null object\n",
    "p1_conf     2075 non-null float64\n",
    "p1_dog      2075 non-null bool\n",
    "p2          2075 non-null object\n",
    "p2_conf     2075 non-null float64\n",
    "p2_dog      2075 non-null bool\n",
    "p3          2075 non-null object\n",
    "p3_conf     2075 non-null float64\n",
    "p3_dog      2075 non-null bool\n",
    "dtypes: bool(3), float64(3), int64(2), object(4)\n",
    "memory usage: 152.1+ KB\n",
    "    '"
   ]
  },
  {
   "cell_type": "markdown",
   "metadata": {},
   "source": [
    "### json_data"
   ]
  },
  {
   "cell_type": "markdown",
   "metadata": {},
   "source": [
    "''<class 'pandas.core.frame.DataFrame'>\n",
    "RangeIndex: 2354 entries, 0 to 2353\n",
    "Data columns (total 3 columns):\n",
    "tweet_id          2354 non-null int64\n",
    "retweet_count     2354 non-null int64\n",
    "favorite_count    2354 non-null int64\n",
    "dtypes: int64(3)\n",
    "memory usage: 55.2 KB'"
   ]
  },
  {
   "cell_type": "markdown",
   "metadata": {},
   "source": [
    "Before any cleaning of the data I started by making copies of each of the data set and later merged them to have one whole dataset as df.This solved the tidiness issue listed below of having separate dataframes.The rest of the issues have been well outlined in the wrangle_act with code and comments to accompany it."
   ]
  },
  {
   "cell_type": "markdown",
   "metadata": {},
   "source": [
    "### Quality issues\n",
    "1.The timestamp is present as an object, which is supposed to be converted into datetime to be exploitable.\n",
    "\n",
    "\n",
    "2.The \"tweet_id\" currently present as an 'INT' should be converted to 'string' datatype.\n",
    "\n",
    "3.Some retweets present (RT @ ...)\n",
    "\n",
    "4.Several rows with wrong rating denominators and some rows with rating denominator below 10\n",
    "\n",
    "5.Text and http url are joined together in the text column\n",
    "\n",
    "6.Unnecessary columns\n",
    "\n",
    "7.55 names 'a', 7 names 'an'\n",
    "\n",
    "8.Some replies to other users present\n",
    "\n",
    "### Tidiness issues\n",
    "1.The variables doggo, floofer, pupper and puppo should be a part of a single column.\n",
    "\n",
    "2.Datasets in separate dataframes"
   ]
  },
  {
   "cell_type": "markdown",
   "metadata": {},
   "source": [
    "### Final Cleaning for Quality\n",
    "Once I completed the quality and tidiness issue steps I removed several unnecessary columns.\n",
    "These were:\n",
    "\n",
    "['doggo', 'floofer', 'pupper','puppo', 'nostage', 'multi_stage', 'rating_numerator', 'rating_denominator', 'in_reply_to_status_id', 'in_reply_to_user_id','retweeted_status_id','retweeted_status_user_id', 'retweeted_status_timestamp']\n"
   ]
  }
 ],
 "metadata": {
  "kernelspec": {
   "display_name": "Python 3",
   "language": "python",
   "name": "python3"
  },
  "language_info": {
   "codemirror_mode": {
    "name": "ipython",
    "version": 3
   },
   "file_extension": ".py",
   "mimetype": "text/x-python",
   "name": "python",
   "nbconvert_exporter": "python",
   "pygments_lexer": "ipython3",
   "version": "3.6.3"
  }
 },
 "nbformat": 4,
 "nbformat_minor": 2
}
